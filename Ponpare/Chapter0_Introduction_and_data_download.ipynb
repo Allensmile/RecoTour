{
 "cells": [
  {
   "cell_type": "markdown",
   "metadata": {},
   "source": [
    "## Chapter 0\n",
    "\n",
    "### 1. Introduction\n",
    "\n",
    "This repo contains a series of notebooks that illustarte the use of a series of recommendation algorithms for a given dataset, in particular, the Kaggle's [Ponpare](https://www.kaggle.com/c/coupon-purchase-prediction/data) dataset. In the future I aim to include other datasets, such as perhaps the one for the [RecSys](http://2015.recsyschallenge.com/index.html) competition and the [Amazon Product Data](http://jmcauley.ucsd.edu/data/amazon/). These datasets allow for a better exploration of some techniques that are included in this repo and some others that I have not included yet.\n",
    "\n",
    "The reason to chose the Ponpare dataset first is because a priori, this is not your \"average recommendation problem\", where you have a given dataset and you need to recommend items to users at a certain point in time. For example, say you have a stock of items and you can recommend any of those items to users as long as they are available in stock. Here we have approximately a year's worth of data and we have to recommend to the users new coupon-offers every week as they become available. These are items that have never been seen before, so the use of collaborative filtering algorithms, for example, requires some thought (since no interaction has ever occurred with those items, they are all very \"cold\"). In addition the potential to explore feature engineering is quite significant when using this dataset. Trough the notebooks I will discuss the pros and cons of using different techniques/algorithms.\n",
    "\n",
    "Note that I wrote recommendation *algorithms* and not *systems*. This is because here I concentrate ***ONLY*** on the algorithmic aspect. Of course, in terms of bulding a recommendation system in the \"real world\" there are few aspects missing, such as the usual (SQL, Spark) queries at the beginning, business rules towards the end of the process, additional rules when neccesary (e.g. do not show the same thing twice if disliked, or do not show an item if the user has requested so), online tests (e.g. A/B or multi-arm bandit) between different algorithms to ensure that the best algorithm is used, etc.\n",
    "\n",
    "On the other hand the core of this repo are the notebooks. Therefore, the code is written in \"notebook style\", intended to be a good explanation of the processes for a given technique. However, in the past, I have put in production a more modular (nice looking) version of some of the code in this repo. Therefore, I hope some of you out there find the code here useful for the projects/problems you face in your companies.   \n",
    "\n",
    "Also emphasize that here I will concentrate in the code and the technique. Therefore, the notebooks will not be loaded with lots of mathematical/theoretical expression unless is well justified. I will of course include links to papers where you can read all details. "
   ]
  },
  {
   "cell_type": "markdown",
   "metadata": {},
   "source": [
    "### 2. Download the data\n",
    "\n",
    "To download the data, install the [kaggle API](https://github.com/Kaggle/kaggle-api) and run\n",
    "\n",
    "```\n",
    "kaggel competitions download -c coupon-purchase-prediction\n",
    "```\n",
    "\n",
    "Prior to this you might need to creta a `.kaggle` directory (a priori this is automatically created during the installation) in your home directory and place there a `kaggle.json` file with your username and key (that you can get from the Kaggle site. See the link I have included before). \n",
    "\n",
    "If you use the default settings, the downloaded data will be at\n",
    "\n",
    "```\n",
    ".kaggle/competitions/coupon-purchase-prediction\n",
    "```\n",
    "\n",
    "I moved the data to my working directory so that the struture of my directory is:\n",
    "```\n",
    "RecoTour\n",
    "├── Ponpare\n",
    "│   └── recutils\n",
    "└── datasets\n",
    "    └── Ponpare\n",
    "        ├── data\n",
    "        ├── data_processed\n",
    "        │   ├── test\n",
    "        │   ├── train\n",
    "        │   └── valid\n",
    "        └── data_translated\n",
    "```\n",
    "\n",
    "The `data` directory contains a copy of the data at the `.kaggle/competitions/coupon-purchase-prediction` dir. \n",
    "\n",
    "Without further ado, let's start recommending. "
   ]
  }
 ],
 "metadata": {
  "kernelspec": {
   "display_name": "Python 3",
   "language": "python",
   "name": "python3"
  },
  "language_info": {
   "codemirror_mode": {
    "name": "ipython",
    "version": 3
   },
   "file_extension": ".py",
   "mimetype": "text/x-python",
   "name": "python",
   "nbconvert_exporter": "python",
   "pygments_lexer": "ipython3",
   "version": "3.6.5"
  }
 },
 "nbformat": 4,
 "nbformat_minor": 2
}
