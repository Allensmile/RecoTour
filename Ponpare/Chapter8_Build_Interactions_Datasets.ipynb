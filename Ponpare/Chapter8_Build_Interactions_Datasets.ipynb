{
 "cells": [
  {
   "cell_type": "markdown",
   "metadata": {},
   "source": [
    "## Chaper 8\n",
    "\n",
    "### building interaction datasets\n",
    "\n",
    "Before we move on to use ML approaches to recommend items, we need to build a couple of datasets adequate for our purposes. \n",
    "\n",
    "### 1. Interaction dataframe with a measure of interest \n",
    "\n",
    "we will first create a dataframe with a measure of the interest on a given coupon by a given user. Such measure of interest will be of course based on the number of times they have purchased or visited that coupon. \n",
    "\n",
    "Let's go"
   ]
  },
  {
   "cell_type": "code",
   "execution_count": 44,
   "metadata": {},
   "outputs": [],
   "source": [
    "import numpy as np\n",
    "import pandas as pd\n",
    "import os\n",
    "import argparse\n",
    "import pickle\n",
    "import matplotlib.pyplot as plt\n",
    "import seaborn as sns\n",
    "%matplotlib inline\n",
    "sns.set()\n",
    "\n",
    "from scipy.sparse import lil_matrix, csr_matrix, save_npz\n",
    "\n",
    "inp_dir = \"../datasets/Ponpare/data_processed\"\n",
    "out_dir = \"../datasets/Ponpare/data_processed\""
   ]
  },
  {
   "cell_type": "markdown",
   "metadata": {},
   "source": [
    "As usual"
   ]
  },
  {
   "cell_type": "code",
   "execution_count": 45,
   "metadata": {},
   "outputs": [],
   "source": [
    "# Interactions\n",
    "df_purchases_train = pd.read_pickle(os.path.join(inp_dir, 'train', 'df_purchases_train.p'))\n",
    "df_visits_train = pd.read_pickle(os.path.join(inp_dir, 'train', 'df_visits_train.p'))\n",
    "df_visits_train.rename(index=str, columns={'view_coupon_id_hash': 'coupon_id_hash'}, inplace=True)\n",
    "\n",
    "# train users and coupons\n",
    "df_coupons_train_feat = pd.read_pickle(os.path.join(inp_dir, 'train', 'df_coupons_train_feat.p'))\n",
    "df_user_train_feat = pd.read_pickle(os.path.join(inp_dir, 'train', 'df_user_train_feat.p'))\n",
    "train_users = df_user_train_feat.user_id_hash.unique()\n",
    "train_coupons = df_coupons_train_feat.coupon_id_hash.unique()\n",
    "\n",
    "# subset activities according to the users and coupons in training\n",
    "df_vtr = df_visits_train[df_visits_train.user_id_hash.isin(train_users) &\n",
    "    df_visits_train.coupon_id_hash.isin(train_coupons)]\n",
    "df_ptr = df_purchases_train[df_purchases_train.user_id_hash.isin(train_users) &\n",
    "    df_purchases_train.coupon_id_hash.isin(train_coupons)]"
   ]
  },
  {
   "cell_type": "markdown",
   "metadata": {},
   "source": [
    "Remember from previous notebooks that we lose one customer (22624->22623) than viewed on coupon that is not among the training coupons and bought another coupon but not during the training period.\n",
    "\n",
    "For purchases it will be easy, \"interest\" will be 1."
   ]
  },
  {
   "cell_type": "code",
   "execution_count": 46,
   "metadata": {},
   "outputs": [
    {
     "data": {
      "text/html": [
       "<div>\n",
       "<style scoped>\n",
       "    .dataframe tbody tr th:only-of-type {\n",
       "        vertical-align: middle;\n",
       "    }\n",
       "\n",
       "    .dataframe tbody tr th {\n",
       "        vertical-align: top;\n",
       "    }\n",
       "\n",
       "    .dataframe thead th {\n",
       "        text-align: right;\n",
       "    }\n",
       "</style>\n",
       "<table border=\"1\" class=\"dataframe\">\n",
       "  <thead>\n",
       "    <tr style=\"text-align: right;\">\n",
       "      <th></th>\n",
       "      <th>user_id_hash</th>\n",
       "      <th>coupon_id_hash</th>\n",
       "      <th>days_to_present</th>\n",
       "      <th>interest</th>\n",
       "    </tr>\n",
       "  </thead>\n",
       "  <tbody>\n",
       "    <tr>\n",
       "      <th>0</th>\n",
       "      <td>0000b53e182165208887ba65c079fc21</td>\n",
       "      <td>38beeadfe3f97e640367eddae4a8c1b5</td>\n",
       "      <td>274</td>\n",
       "      <td>1.0</td>\n",
       "    </tr>\n",
       "    <tr>\n",
       "      <th>1</th>\n",
       "      <td>00035b86e6884589ec8d28fbf2fe7757</td>\n",
       "      <td>25a27d420caa1c46a8d3c0572d27868a</td>\n",
       "      <td>86</td>\n",
       "      <td>1.0</td>\n",
       "    </tr>\n",
       "    <tr>\n",
       "      <th>2</th>\n",
       "      <td>0005b1068d5f2b8f2a7c978fcfe1ca06</td>\n",
       "      <td>4a79cd05ecb2bf8672e1d955f5faa7fa</td>\n",
       "      <td>310</td>\n",
       "      <td>1.0</td>\n",
       "    </tr>\n",
       "    <tr>\n",
       "      <th>3</th>\n",
       "      <td>0005b1068d5f2b8f2a7c978fcfe1ca06</td>\n",
       "      <td>f0f66195d527a5a9509e139ed367b879</td>\n",
       "      <td>310</td>\n",
       "      <td>1.0</td>\n",
       "    </tr>\n",
       "    <tr>\n",
       "      <th>4</th>\n",
       "      <td>000cc06982785a19e2a2fdb40b1c9d59</td>\n",
       "      <td>229ff5cc21c8d26615493be7f3b42841</td>\n",
       "      <td>268</td>\n",
       "      <td>1.0</td>\n",
       "    </tr>\n",
       "  </tbody>\n",
       "</table>\n",
       "</div>"
      ],
      "text/plain": [
       "                       user_id_hash                    coupon_id_hash  \\\n",
       "0  0000b53e182165208887ba65c079fc21  38beeadfe3f97e640367eddae4a8c1b5   \n",
       "1  00035b86e6884589ec8d28fbf2fe7757  25a27d420caa1c46a8d3c0572d27868a   \n",
       "2  0005b1068d5f2b8f2a7c978fcfe1ca06  4a79cd05ecb2bf8672e1d955f5faa7fa   \n",
       "3  0005b1068d5f2b8f2a7c978fcfe1ca06  f0f66195d527a5a9509e139ed367b879   \n",
       "4  000cc06982785a19e2a2fdb40b1c9d59  229ff5cc21c8d26615493be7f3b42841   \n",
       "\n",
       "   days_to_present  interest  \n",
       "0              274       1.0  \n",
       "1               86       1.0  \n",
       "2              310       1.0  \n",
       "3              310       1.0  \n",
       "4              268       1.0  "
      ]
     },
     "execution_count": 46,
     "metadata": {},
     "output_type": "execute_result"
    }
   ],
   "source": [
    "# for purchases interest will be 1\n",
    "df_interest_ptr = (df_ptr\n",
    "    .groupby(['user_id_hash','coupon_id_hash'])['days_to_present']\n",
    "    .min()\n",
    "    .reset_index())\n",
    "df_interest_ptr['interest'] = 1.\n",
    "\n",
    "df_interest_ptr.head()"
   ]
  },
  {
   "cell_type": "markdown",
   "metadata": {},
   "source": [
    "Because we have already accounted for all those interactions that ended in a purchase, let's remove them from the visits table"
   ]
  },
  {
   "cell_type": "code",
   "execution_count": 47,
   "metadata": {},
   "outputs": [
    {
     "name": "stderr",
     "output_type": "stream",
     "text": [
      "/home/ubuntu/anaconda3/envs/jrz/lib/python3.6/site-packages/ipykernel/__main__.py:5: SettingWithCopyWarning: \n",
      "A value is trying to be set on a copy of a slice from a DataFrame.\n",
      "Try using .loc[row_indexer,col_indexer] = value instead\n",
      "\n",
      "See the caveats in the documentation: http://pandas.pydata.org/pandas-docs/stable/indexing.html#indexing-view-versus-copy\n"
     ]
    }
   ],
   "source": [
    "# remove from the visits table those pairs user-coupon that ended up in purchases\n",
    "activity_hash_p = (df_interest_ptr['user_id_hash'] + \"_\" +\n",
    "    df_interest_ptr['coupon_id_hash']).unique()\n",
    "df_vtr['activity_hash'] = (df_vtr['user_id_hash'] + \"_\" +\n",
    "    df_vtr['coupon_id_hash'])\n",
    "df_vtr = df_vtr[~df_vtr.activity_hash.isin(activity_hash_p)]\n",
    "df_vtr.drop('activity_hash', axis=1, inplace=True)"
   ]
  },
  {
   "cell_type": "markdown",
   "metadata": {},
   "source": [
    "For visits, \"interest\" will be calculated with some funcion that will depend on number of visits. Let's first calculate the number of visits"
   ]
  },
  {
   "cell_type": "code",
   "execution_count": 48,
   "metadata": {},
   "outputs": [
    {
     "data": {
      "text/html": [
       "<div>\n",
       "<style scoped>\n",
       "    .dataframe tbody tr th:only-of-type {\n",
       "        vertical-align: middle;\n",
       "    }\n",
       "\n",
       "    .dataframe tbody tr th {\n",
       "        vertical-align: top;\n",
       "    }\n",
       "\n",
       "    .dataframe thead th {\n",
       "        text-align: right;\n",
       "    }\n",
       "</style>\n",
       "<table border=\"1\" class=\"dataframe\">\n",
       "  <thead>\n",
       "    <tr style=\"text-align: right;\">\n",
       "      <th></th>\n",
       "      <th>user_id_hash</th>\n",
       "      <th>coupon_id_hash</th>\n",
       "      <th>views_count</th>\n",
       "      <th>days_to_present</th>\n",
       "      <th>interest</th>\n",
       "    </tr>\n",
       "  </thead>\n",
       "  <tbody>\n",
       "    <tr>\n",
       "      <th>0</th>\n",
       "      <td>0000b53e182165208887ba65c079fc21</td>\n",
       "      <td>0645faa156f34104e6d8910160868f9f</td>\n",
       "      <td>1</td>\n",
       "      <td>182</td>\n",
       "      <td>0.0</td>\n",
       "    </tr>\n",
       "    <tr>\n",
       "      <th>1</th>\n",
       "      <td>0000b53e182165208887ba65c079fc21</td>\n",
       "      <td>18097cd25ab6b7e8eb0481b0e3a3cfd8</td>\n",
       "      <td>1</td>\n",
       "      <td>267</td>\n",
       "      <td>0.0</td>\n",
       "    </tr>\n",
       "    <tr>\n",
       "      <th>2</th>\n",
       "      <td>0000b53e182165208887ba65c079fc21</td>\n",
       "      <td>1b581f2ed53f2f2eafbc1560db640194</td>\n",
       "      <td>1</td>\n",
       "      <td>182</td>\n",
       "      <td>0.0</td>\n",
       "    </tr>\n",
       "    <tr>\n",
       "      <th>3</th>\n",
       "      <td>0000b53e182165208887ba65c079fc21</td>\n",
       "      <td>1d04e76c44c231d5d05dc1634d20fe8c</td>\n",
       "      <td>2</td>\n",
       "      <td>267</td>\n",
       "      <td>0.0</td>\n",
       "    </tr>\n",
       "    <tr>\n",
       "      <th>4</th>\n",
       "      <td>0000b53e182165208887ba65c079fc21</td>\n",
       "      <td>2ab16b8f5aeead6d31dbdb9bd59c41db</td>\n",
       "      <td>2</td>\n",
       "      <td>267</td>\n",
       "      <td>0.0</td>\n",
       "    </tr>\n",
       "  </tbody>\n",
       "</table>\n",
       "</div>"
      ],
      "text/plain": [
       "                       user_id_hash                    coupon_id_hash  \\\n",
       "0  0000b53e182165208887ba65c079fc21  0645faa156f34104e6d8910160868f9f   \n",
       "1  0000b53e182165208887ba65c079fc21  18097cd25ab6b7e8eb0481b0e3a3cfd8   \n",
       "2  0000b53e182165208887ba65c079fc21  1b581f2ed53f2f2eafbc1560db640194   \n",
       "3  0000b53e182165208887ba65c079fc21  1d04e76c44c231d5d05dc1634d20fe8c   \n",
       "4  0000b53e182165208887ba65c079fc21  2ab16b8f5aeead6d31dbdb9bd59c41db   \n",
       "\n",
       "   views_count  days_to_present  interest  \n",
       "0            1              182       0.0  \n",
       "1            1              267       0.0  \n",
       "2            1              182       0.0  \n",
       "3            2              267       0.0  \n",
       "4            2              267       0.0  "
      ]
     },
     "execution_count": 48,
     "metadata": {},
     "output_type": "execute_result"
    }
   ],
   "source": [
    "# for visits will depend on number of visits\n",
    "df_vtr_coupon_views = (df_vtr\n",
    "    .groupby(['user_id_hash','coupon_id_hash'])\n",
    "    .size()\n",
    "    .reset_index())\n",
    "df_vtr_coupon_views.columns = ['user_id_hash','coupon_id_hash','views_count']\n",
    "df_vtr_most_recent_view = (df_vtr\n",
    "    .groupby(['user_id_hash','coupon_id_hash'])['days_to_present']\n",
    "    .min()\n",
    "    .reset_index())\n",
    "df_interest_vtr = pd.merge(df_vtr_coupon_views, df_vtr_most_recent_view,\n",
    "    on=['user_id_hash','coupon_id_hash'])\n",
    "df_interest_vtr['interest'] = 0.\n",
    "df_interest_vtr.head()"
   ]
  },
  {
   "cell_type": "markdown",
   "metadata": {},
   "source": [
    "Now we need to decide which function to use to compute interest based on visits. As has happened a few times already, there is a lot of freedom. Here I will use a sigmoid function and include the code for a \"truncated linear\" one. Please, feel free to experiment with any other function that you might consider adequate. \n",
    "\n",
    "Before moving into visualizing the function, let's have a look to the visits distribution"
   ]
  },
  {
   "cell_type": "code",
   "execution_count": 49,
   "metadata": {},
   "outputs": [
    {
     "name": "stderr",
     "output_type": "stream",
     "text": [
      "/home/ubuntu/anaconda3/envs/jrz/lib/python3.6/site-packages/matplotlib/axes/_axes.py:6462: UserWarning: The 'normed' kwarg is deprecated, and has been replaced by the 'density' kwarg.\n",
      "  warnings.warn(\"The 'normed' kwarg is deprecated, and has been \"\n"
     ]
    },
    {
     "data": {
      "text/plain": [
       "[(0, 10)]"
      ]
     },
     "execution_count": 49,
     "metadata": {},
     "output_type": "execute_result"
    },
    {
     "data": {
      "image/png": "[encoded data removed]",
      "text/plain": [
       "<Figure size 432x288 with 1 Axes>"
      ]
     },
     "metadata": {},
     "output_type": "display_data"
    }
   ],
   "source": [
    "g = sns.distplot(df_interest_vtr.views_count, bins=5000)\n",
    "g.set(xlim=(0, 10))"
   ]
  },
  {
   "cell_type": "code",
   "execution_count": 50,
   "metadata": {},
   "outputs": [
    {
     "name": "stdout",
     "output_type": "stream",
     "text": [
      "1818528\n"
     ]
    },
    {
     "data": {
      "text/plain": [
       "1     1149969\n",
       "2      180479\n",
       "3       45541\n",
       "4       16338\n",
       "5        7073\n",
       "6        3409\n",
       "7        1846\n",
       "8        1003\n",
       "9         672\n",
       "10        435\n",
       "Name: views_count, dtype: int64"
      ]
     },
     "execution_count": 50,
     "metadata": {},
     "output_type": "execute_result"
    }
   ],
   "source": [
    "#Total number of visits:\n",
    "print(df_interest_vtr.views_count.sum())\n",
    "df_interest_vtr.views_count.value_counts()[:10]"
   ]
  },
  {
   "cell_type": "markdown",
   "metadata": {},
   "source": [
    "So $1149969/1818528 = 0.63$, 63% of the users that visited coupons visited a given coupon only once. With this information in mind, let's define our two \"interest functions\". \n",
    "\n",
    "When it comes to a sigmoid function, there are three parameters we need to define: \n",
    "1. xmid: middle point that will defines the change in trend for the S-shaped sigmoid function\n",
    "2. tau: parameter that defines the slope around the middle point\n",
    "3. top: parameter that defines the maximum value as x tends to infinite\n",
    "\n",
    "For the \"truncated linear\", which is just a combination of two linear functions, we need to define:\n",
    "1. xmid: point where the change in slope occurs\n",
    "2. ylow: lower y value\n",
    "3. ymid: y value where the change in slope occurs\n",
    "4. ytop: upper y value\n",
    "\n",
    "Let's visualize how these look"
   ]
  },
  {
   "cell_type": "code",
   "execution_count": 51,
   "metadata": {},
   "outputs": [],
   "source": [
    "def sigmoid(x, xmid, tau, top):\n",
    "    \"\"\"\n",
    "    Sigmoid with upper limit\n",
    "    \"\"\"\n",
    "    return top / (1. + np.exp(-(x-xmid)/tau))\n",
    "\n",
    "\n",
    "def combined_linear(x, xmid, ylow, ymid, ytop):\n",
    "    \"\"\"\n",
    "    Truncated straight lines\n",
    "    \"\"\"\n",
    "    m1 = (ymid-ylow)/(xmid)\n",
    "    b1 = ylow\n",
    "\n",
    "    x2 = np.max(x)\n",
    "    m2 = (ytop-ymid)/(x2-xmid)\n",
    "    b2 = ymid-(m2*xmid)\n",
    "\n",
    "    x1_range = x[np.where(x<=xmid)[0]]\n",
    "    x2_range = x[np.where(x>xmid)[0]]\n",
    "\n",
    "    l1 = m1*x1_range + b1\n",
    "    l2 = m2*x2_range + b2\n",
    "\n",
    "    return np.hstack([l1,l2])\n",
    "\n",
    "\n",
    "def plot_adjustment_func(x, params, xmin=None, xmax=None, func='sigmoid'):\n",
    "\n",
    "    if not xmin: xmin = np.min(x)\n",
    "    if not xmax: xmax = np.max(x)\n",
    "    x = np.sort(x)\n",
    "\n",
    "    if func == 'sigmoid':\n",
    "        Z = sigmoid(x, params['xmid'], params['tau'], params['top'])\n",
    "    elif func == 'linear':\n",
    "        Z = combined_linear(x, params['xmid'], params['ylow'], params['ymid'], params['ytop'])\n",
    "\n",
    "    plt.plot(x, Z, color='red', lw=0.4)\n",
    "    plt.xlim((xmin, xmax))\n",
    "    plt.ylabel(\"Interest\")\n",
    "    plt.show()"
   ]
  },
  {
   "cell_type": "markdown",
   "metadata": {},
   "source": [
    "Let's first have a look to the modified sigmoid"
   ]
  },
  {
   "cell_type": "code",
   "execution_count": 52,
   "metadata": {},
   "outputs": [
    {
     "data": {
      "image/png": "[encoded data removed]",
      "text/plain": [
       "<Figure size 432x288 with 1 Axes>"
      ]
     },
     "metadata": {},
     "output_type": "display_data"
    }
   ],
   "source": [
    "x = np.arange(0, 20, .01)\n",
    "\n",
    "# This will be the actual parameters I will use\n",
    "params = {'xmid': 3, 'tau': 1, 'top': 0.9} \n",
    "plot_adjustment_func(x, params)"
   ]
  },
  {
   "cell_type": "markdown",
   "metadata": {},
   "source": [
    "And to the combined or \"truncated\" linear"
   ]
  },
  {
   "cell_type": "code",
   "execution_count": 53,
   "metadata": {},
   "outputs": [
    {
     "data": {
      "image/png": "[encoded data removed]",
      "text/plain": [
       "<Figure size 432x288 with 1 Axes>"
      ]
     },
     "metadata": {},
     "output_type": "display_data"
    }
   ],
   "source": [
    "# Let's pick some random parameters\n",
    "params = {'xmid': 3, 'ylow': 0.05, 'ymid': 0.5, 'ytop': 0.9} \n",
    "plot_adjustment_func(x, params, func='linear')"
   ]
  },
  {
   "cell_type": "markdown",
   "metadata": {},
   "source": [
    "Let's concentrate on the sigmoid function since is the function that I will use throughout the notebooks. For users that only visited a coupon once, their interest in that coupon will be $\\sim$0.10 (just run `sigmoid(1., 3, 1, 0.9)`). The the interest increase sharply until we get to $\\sim$6 visits (Interest = 0.85). From there in advance, the Interest metric slowly increase up to 0.9, and will be never be more than that number. "
   ]
  },
  {
   "cell_type": "code",
   "execution_count": 54,
   "metadata": {},
   "outputs": [
    {
     "data": {
      "text/html": [
       "<div>\n",
       "<style scoped>\n",
       "    .dataframe tbody tr th:only-of-type {\n",
       "        vertical-align: middle;\n",
       "    }\n",
       "\n",
       "    .dataframe tbody tr th {\n",
       "        vertical-align: top;\n",
       "    }\n",
       "\n",
       "    .dataframe thead th {\n",
       "        text-align: right;\n",
       "    }\n",
       "</style>\n",
       "<table border=\"1\" class=\"dataframe\">\n",
       "  <thead>\n",
       "    <tr style=\"text-align: right;\">\n",
       "      <th></th>\n",
       "      <th>user_id_hash</th>\n",
       "      <th>coupon_id_hash</th>\n",
       "      <th>days_to_present</th>\n",
       "      <th>interest</th>\n",
       "    </tr>\n",
       "  </thead>\n",
       "  <tbody>\n",
       "    <tr>\n",
       "      <th>0</th>\n",
       "      <td>0000b53e182165208887ba65c079fc21</td>\n",
       "      <td>0645faa156f34104e6d8910160868f9f</td>\n",
       "      <td>182</td>\n",
       "      <td>0.107283</td>\n",
       "    </tr>\n",
       "    <tr>\n",
       "      <th>1</th>\n",
       "      <td>0000b53e182165208887ba65c079fc21</td>\n",
       "      <td>18097cd25ab6b7e8eb0481b0e3a3cfd8</td>\n",
       "      <td>267</td>\n",
       "      <td>0.107283</td>\n",
       "    </tr>\n",
       "    <tr>\n",
       "      <th>2</th>\n",
       "      <td>0000b53e182165208887ba65c079fc21</td>\n",
       "      <td>1b581f2ed53f2f2eafbc1560db640194</td>\n",
       "      <td>182</td>\n",
       "      <td>0.107283</td>\n",
       "    </tr>\n",
       "    <tr>\n",
       "      <th>3</th>\n",
       "      <td>0000b53e182165208887ba65c079fc21</td>\n",
       "      <td>1d04e76c44c231d5d05dc1634d20fe8c</td>\n",
       "      <td>267</td>\n",
       "      <td>0.242047</td>\n",
       "    </tr>\n",
       "    <tr>\n",
       "      <th>4</th>\n",
       "      <td>0000b53e182165208887ba65c079fc21</td>\n",
       "      <td>2ab16b8f5aeead6d31dbdb9bd59c41db</td>\n",
       "      <td>267</td>\n",
       "      <td>0.242047</td>\n",
       "    </tr>\n",
       "  </tbody>\n",
       "</table>\n",
       "</div>"
      ],
      "text/plain": [
       "                       user_id_hash                    coupon_id_hash  \\\n",
       "0  0000b53e182165208887ba65c079fc21  0645faa156f34104e6d8910160868f9f   \n",
       "1  0000b53e182165208887ba65c079fc21  18097cd25ab6b7e8eb0481b0e3a3cfd8   \n",
       "2  0000b53e182165208887ba65c079fc21  1b581f2ed53f2f2eafbc1560db640194   \n",
       "3  0000b53e182165208887ba65c079fc21  1d04e76c44c231d5d05dc1634d20fe8c   \n",
       "4  0000b53e182165208887ba65c079fc21  2ab16b8f5aeead6d31dbdb9bd59c41db   \n",
       "\n",
       "   days_to_present  interest  \n",
       "0              182  0.107283  \n",
       "1              267  0.107283  \n",
       "2              182  0.107283  \n",
       "3              267  0.242047  \n",
       "4              267  0.242047  "
      ]
     },
     "execution_count": 54,
     "metadata": {},
     "output_type": "execute_result"
    }
   ],
   "source": [
    "# interest for visits using a sigmoid\n",
    "vxmid, vtau, vtop = 3, 1, 0.9\n",
    "df_interest_vtr['interest'] = sigmoid(df_interest_vtr.views_count.values, vxmid, vtau, vtop)\n",
    "df_interest_vtr.drop('views_count', axis=1, inplace=True)\n",
    "\n",
    "df_interest_vtr.head()"
   ]
  },
  {
   "cell_type": "markdown",
   "metadata": {},
   "source": [
    "In addition, a sigmoid function can also be used to compute a \"recency factor\". So far we have treated all coupons as equally important, independently on when they were purchased or visisted. A good recommendation algorithm should include, or at least consider, frecency. It is likely that the likes of an individual change through time so chances are that your recommendation algorithms work better if they are biased towards more recent interactions. \n",
    "\n",
    "Similarly to what we did with the number counts, we can use the sigmoid function above and do:"
   ]
  },
  {
   "cell_type": "code",
   "execution_count": 55,
   "metadata": {},
   "outputs": [
    {
     "data": {
      "text/html": [
       "<div>\n",
       "<style scoped>\n",
       "    .dataframe tbody tr th:only-of-type {\n",
       "        vertical-align: middle;\n",
       "    }\n",
       "\n",
       "    .dataframe tbody tr th {\n",
       "        vertical-align: top;\n",
       "    }\n",
       "\n",
       "    .dataframe thead th {\n",
       "        text-align: right;\n",
       "    }\n",
       "</style>\n",
       "<table border=\"1\" class=\"dataframe\">\n",
       "  <thead>\n",
       "    <tr style=\"text-align: right;\">\n",
       "      <th></th>\n",
       "      <th>user_id_hash</th>\n",
       "      <th>coupon_id_hash</th>\n",
       "      <th>interest</th>\n",
       "      <th>recency_factor</th>\n",
       "    </tr>\n",
       "  </thead>\n",
       "  <tbody>\n",
       "    <tr>\n",
       "      <th>0</th>\n",
       "      <td>cf9805eb78cceba252d93f6050ed55e1</td>\n",
       "      <td>1d1e4ceaa8f4a0bc8e32c50ccd995fbb</td>\n",
       "      <td>0.107283</td>\n",
       "      <td>0.946174</td>\n",
       "    </tr>\n",
       "    <tr>\n",
       "      <th>1</th>\n",
       "      <td>bbec8235588e25699e9d8787037cc388</td>\n",
       "      <td>429035705e87670ecc3d4fcef14cc6df</td>\n",
       "      <td>0.107283</td>\n",
       "      <td>0.385406</td>\n",
       "    </tr>\n",
       "    <tr>\n",
       "      <th>2</th>\n",
       "      <td>20b08e8fdd08cba9c0f92112f3416d8d</td>\n",
       "      <td>48948527d6a8e075090393f3d95e31bf</td>\n",
       "      <td>0.107283</td>\n",
       "      <td>0.975873</td>\n",
       "    </tr>\n",
       "    <tr>\n",
       "      <th>3</th>\n",
       "      <td>f682389a94b36dabb3fc49462a3e7138</td>\n",
       "      <td>0f2ef03220f9b2a2f7bccd643c197a5a</td>\n",
       "      <td>0.242047</td>\n",
       "      <td>0.995033</td>\n",
       "    </tr>\n",
       "    <tr>\n",
       "      <th>4</th>\n",
       "      <td>8b969180f25aca52bb6ee01ffb71e164</td>\n",
       "      <td>c5ef0f74983c3c63ec857d584833b149</td>\n",
       "      <td>0.242047</td>\n",
       "      <td>0.574443</td>\n",
       "    </tr>\n",
       "  </tbody>\n",
       "</table>\n",
       "</div>"
      ],
      "text/plain": [
       "                       user_id_hash                    coupon_id_hash  \\\n",
       "0  cf9805eb78cceba252d93f6050ed55e1  1d1e4ceaa8f4a0bc8e32c50ccd995fbb   \n",
       "1  bbec8235588e25699e9d8787037cc388  429035705e87670ecc3d4fcef14cc6df   \n",
       "2  20b08e8fdd08cba9c0f92112f3416d8d  48948527d6a8e075090393f3d95e31bf   \n",
       "3  f682389a94b36dabb3fc49462a3e7138  0f2ef03220f9b2a2f7bccd643c197a5a   \n",
       "4  8b969180f25aca52bb6ee01ffb71e164  c5ef0f74983c3c63ec857d584833b149   \n",
       "\n",
       "   interest  recency_factor  \n",
       "0  0.107283        0.946174  \n",
       "1  0.107283        0.385406  \n",
       "2  0.107283        0.975873  \n",
       "3  0.242047        0.995033  \n",
       "4  0.242047        0.574443  "
      ]
     },
     "execution_count": 55,
     "metadata": {},
     "output_type": "execute_result"
    }
   ],
   "source": [
    "# in case we want to add a factor depending on recency of purchase\n",
    "df_interest = pd.concat([df_interest_ptr, df_interest_vtr],\n",
    "    axis=0, ignore_index=True)\n",
    "df_interest['days_to_present_inv'] = df_interest.days_to_present.max() - df_interest.days_to_present\n",
    "\n",
    "rxmid, rtau, rtop = 150, 30, 1\n",
    "df_interest['recency_factor'] = sigmoid(df_interest.days_to_present_inv.values, rxmid, rtau, rtop)\n",
    "df_interest.drop(['days_to_present', 'days_to_present_inv'], axis=1, inplace=True)\n",
    "df_interest = df_interest.sample(frac=1).reset_index(drop=True)\n",
    "\n",
    "df_interest.head()"
   ]
  },
  {
   "cell_type": "markdown",
   "metadata": {},
   "source": [
    "Let's save it to disk"
   ]
  },
  {
   "cell_type": "code",
   "execution_count": 56,
   "metadata": {},
   "outputs": [],
   "source": [
    "# df_interest.to_pickle(os.path.join(out_dir,'train','df_interest.p'))"
   ]
  },
  {
   "cell_type": "markdown",
   "metadata": {},
   "source": [
    "### 2. User-Item Interaction Matrix"
   ]
  },
  {
   "cell_type": "code",
   "execution_count": null,
   "metadata": {},
   "outputs": [],
   "source": []
  }
 ],
 "metadata": {
  "kernelspec": {
   "display_name": "Environment (conda_jrz)",
   "language": "python",
   "name": "conda_jrz"
  },
  "language_info": {
   "codemirror_mode": {
    "name": "ipython",
    "version": 3
   },
   "file_extension": ".py",
   "mimetype": "text/x-python",
   "name": "python",
   "nbconvert_exporter": "python",
   "pygments_lexer": "ipython3",
   "version": "3.6.5"
  }
 },
 "nbformat": 4,
 "nbformat_minor": 2
}
