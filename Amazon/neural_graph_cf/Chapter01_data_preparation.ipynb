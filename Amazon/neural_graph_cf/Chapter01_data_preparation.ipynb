{
 "cells": [
  {
   "cell_type": "markdown",
   "metadata": {},
   "source": [
    "## Amazon Movies Data Preparation\n",
    "\n",
    "To start with simply download the dataset:\n",
    "\n",
    "```\n",
    "wget http://snap.stanford.edu/data/amazon/productGraph/categoryFiles/reviews_Movies_and_TV_5.json.gz`\n",
    "```\n",
    "\n",
    "Before we jump into the code, I will say the following. Most of the content of the notebooks in this directory is designed to run in any laptop. No need of a GPU or a machine with a lot of memory. With that in mind I have included in this directory a script called `generate_toy_data.py` that will generate a small, random dataset designed to replicate exactly the data format required to be passed to the Neural Graph Collaborative Filtering algorithm.\n",
    "\n",
    "Therefore, if you just want to see how the algorithm functions and do not have any intention of running it using the Amazon Dataset, simply run that script (e.g):\n",
    "\n",
    "```\n",
    "python generate_toy_data --n_users 1000 n_items 2000 \n",
    "```\n",
    "\n",
    "And you are good to go, you can move directly to notebook Chapter02. With that being said, let's see how one would prepare the Amazon movie reviews to be passed to the NGCF algorithm"
   ]
  },
  {
   "cell_type": "code",
   "execution_count": 1,
   "metadata": {},
   "outputs": [],
   "source": [
    "import numpy as np\n",
    "import pandas as pd\n",
    "import scipy.sparse as sp\n",
    "import csv\n",
    "\n",
    "from tqdm import tqdm\n",
    "from pathlib import Path"
   ]
  },
  {
   "cell_type": "markdown",
   "metadata": {},
   "source": [
    "As with any other dataset used in this repo, I place them in `~/projects/RecoTour/datasets`"
   ]
  },
  {
   "cell_type": "code",
   "execution_count": 2,
   "metadata": {},
   "outputs": [],
   "source": [
    "DATA_PATH = Path(\"/home/ubuntu/projects/RecoTour/datasets/Amazon\")\n",
    "reviews = \"reviews_Movies_and_TV_5.json.gz\""
   ]
  },
  {
   "cell_type": "code",
   "execution_count": 3,
   "metadata": {},
   "outputs": [
    {
     "data": {
      "text/html": [
       "<div>\n",
       "<style scoped>\n",
       "    .dataframe tbody tr th:only-of-type {\n",
       "        vertical-align: middle;\n",
       "    }\n",
       "\n",
       "    .dataframe tbody tr th {\n",
       "        vertical-align: top;\n",
       "    }\n",
       "\n",
       "    .dataframe thead th {\n",
       "        text-align: right;\n",
       "    }\n",
       "</style>\n",
       "<table border=\"1\" class=\"dataframe\">\n",
       "  <thead>\n",
       "    <tr style=\"text-align: right;\">\n",
       "      <th></th>\n",
       "      <th>user</th>\n",
       "      <th>item</th>\n",
       "      <th>timestamp</th>\n",
       "      <th>rating</th>\n",
       "    </tr>\n",
       "  </thead>\n",
       "  <tbody>\n",
       "    <tr>\n",
       "      <td>0</td>\n",
       "      <td>ADZPIG9QOCDG5</td>\n",
       "      <td>0005019281</td>\n",
       "      <td>1203984000</td>\n",
       "      <td>4</td>\n",
       "    </tr>\n",
       "    <tr>\n",
       "      <td>1</td>\n",
       "      <td>A35947ZP82G7JH</td>\n",
       "      <td>0005019281</td>\n",
       "      <td>1388361600</td>\n",
       "      <td>3</td>\n",
       "    </tr>\n",
       "    <tr>\n",
       "      <td>2</td>\n",
       "      <td>A3UORV8A9D5L2E</td>\n",
       "      <td>0005019281</td>\n",
       "      <td>1388361600</td>\n",
       "      <td>3</td>\n",
       "    </tr>\n",
       "    <tr>\n",
       "      <td>3</td>\n",
       "      <td>A1VKW06X1O2X7V</td>\n",
       "      <td>0005019281</td>\n",
       "      <td>1202860800</td>\n",
       "      <td>5</td>\n",
       "    </tr>\n",
       "    <tr>\n",
       "      <td>4</td>\n",
       "      <td>A3R27T4HADWFFJ</td>\n",
       "      <td>0005019281</td>\n",
       "      <td>1387670400</td>\n",
       "      <td>4</td>\n",
       "    </tr>\n",
       "  </tbody>\n",
       "</table>\n",
       "</div>"
      ],
      "text/plain": [
       "             user        item   timestamp  rating\n",
       "0   ADZPIG9QOCDG5  0005019281  1203984000       4\n",
       "1  A35947ZP82G7JH  0005019281  1388361600       3\n",
       "2  A3UORV8A9D5L2E  0005019281  1388361600       3\n",
       "3  A1VKW06X1O2X7V  0005019281  1202860800       5\n",
       "4  A3R27T4HADWFFJ  0005019281  1387670400       4"
      ]
     },
     "execution_count": 3,
     "metadata": {},
     "output_type": "execute_result"
    }
   ],
   "source": [
    "df = pd.read_json(DATA_PATH/reviews, lines=True)\n",
    "keep_cols = ['reviewerID', 'asin', 'unixReviewTime', 'overall']\n",
    "new_colnames = ['user', 'item', 'timestamp', 'rating']\n",
    "df = df[keep_cols]\n",
    "df.columns = new_colnames\n",
    "df.head()"
   ]
  },
  {
   "cell_type": "code",
   "execution_count": 4,
   "metadata": {},
   "outputs": [
    {
     "data": {
      "text/plain": [
       "5    906608\n",
       "4    382994\n",
       "3    201302\n",
       "1    104219\n",
       "2    102410\n",
       "Name: rating, dtype: int64"
      ]
     },
     "execution_count": 4,
     "metadata": {},
     "output_type": "execute_result"
    }
   ],
   "source": [
    "df.rating.value_counts()"
   ]
  },
  {
   "cell_type": "markdown",
   "metadata": {},
   "source": [
    "a lot of people seem to love the movies they watch. There are more 5s that 1,2,3 and 4s together. \n",
    "\n",
    "For convenience later, let's now sort values based on `timestamp`. This will be useful later in the process."
   ]
  },
  {
   "cell_type": "code",
   "execution_count": 5,
   "metadata": {},
   "outputs": [
    {
     "data": {
      "text/html": [
       "<div>\n",
       "<style scoped>\n",
       "    .dataframe tbody tr th:only-of-type {\n",
       "        vertical-align: middle;\n",
       "    }\n",
       "\n",
       "    .dataframe tbody tr th {\n",
       "        vertical-align: top;\n",
       "    }\n",
       "\n",
       "    .dataframe thead th {\n",
       "        text-align: right;\n",
       "    }\n",
       "</style>\n",
       "<table border=\"1\" class=\"dataframe\">\n",
       "  <thead>\n",
       "    <tr style=\"text-align: right;\">\n",
       "      <th></th>\n",
       "      <th>user</th>\n",
       "      <th>item</th>\n",
       "      <th>timestamp</th>\n",
       "      <th>rating</th>\n",
       "    </tr>\n",
       "  </thead>\n",
       "  <tbody>\n",
       "    <tr>\n",
       "      <td>0</td>\n",
       "      <td>A00295401U6S2UG3RAQSZ</td>\n",
       "      <td>0767015533</td>\n",
       "      <td>1353196800</td>\n",
       "      <td>4</td>\n",
       "    </tr>\n",
       "    <tr>\n",
       "      <td>1</td>\n",
       "      <td>A00295401U6S2UG3RAQSZ</td>\n",
       "      <td>0792838084</td>\n",
       "      <td>1353196800</td>\n",
       "      <td>4</td>\n",
       "    </tr>\n",
       "    <tr>\n",
       "      <td>2</td>\n",
       "      <td>A00295401U6S2UG3RAQSZ</td>\n",
       "      <td>6304484054</td>\n",
       "      <td>1353196800</td>\n",
       "      <td>4</td>\n",
       "    </tr>\n",
       "    <tr>\n",
       "      <td>3</td>\n",
       "      <td>A00295401U6S2UG3RAQSZ</td>\n",
       "      <td>6305182205</td>\n",
       "      <td>1353196800</td>\n",
       "      <td>4</td>\n",
       "    </tr>\n",
       "    <tr>\n",
       "      <td>4</td>\n",
       "      <td>A00295401U6S2UG3RAQSZ</td>\n",
       "      <td>B00004W22I</td>\n",
       "      <td>1353196800</td>\n",
       "      <td>4</td>\n",
       "    </tr>\n",
       "  </tbody>\n",
       "</table>\n",
       "</div>"
      ],
      "text/plain": [
       "                    user        item   timestamp  rating\n",
       "0  A00295401U6S2UG3RAQSZ  0767015533  1353196800       4\n",
       "1  A00295401U6S2UG3RAQSZ  0792838084  1353196800       4\n",
       "2  A00295401U6S2UG3RAQSZ  6304484054  1353196800       4\n",
       "3  A00295401U6S2UG3RAQSZ  6305182205  1353196800       4\n",
       "4  A00295401U6S2UG3RAQSZ  B00004W22I  1353196800       4"
      ]
     },
     "execution_count": 5,
     "metadata": {},
     "output_type": "execute_result"
    }
   ],
   "source": [
    "df.sort_values(['user','timestamp'], ascending=[True,True], inplace=True)\n",
    "df.reset_index(inplace=True, drop=True)\n",
    "df.head()"
   ]
  },
  {
   "cell_type": "markdown",
   "metadata": {},
   "source": [
    "Let's map users and items to continuous integers"
   ]
  },
  {
   "cell_type": "code",
   "execution_count": 6,
   "metadata": {},
   "outputs": [],
   "source": [
    "def map_user_items(df):\n",
    "\n",
    "    dfc = df.copy()\n",
    "    user_mappings = {k:v for v,k in enumerate(dfc.user.unique())}\n",
    "    item_mappings = {k:v for v,k in enumerate(dfc.item.unique())}\n",
    "\n",
    "    user_list = pd.DataFrame.from_dict(user_mappings, orient='index').reset_index()\n",
    "    user_list.columns = ['orig_id', 'remap_id']\n",
    "    item_list = pd.DataFrame.from_dict(item_mappings, orient='index').reset_index()\n",
    "    item_list.columns = ['orig_id', 'remap_id']\n",
    "    user_list.to_csv(DATA_PATH/'user_list.txt', sep=\" \", index=False)\n",
    "    item_list.to_csv(DATA_PATH/'item_list.txt', sep=\" \", index=False)    \n",
    "\n",
    "    dfc['user'] = dfc['user'].map(user_mappings).astype(np.int64)\n",
    "    dfc['item'] = dfc['item'].map(item_mappings).astype(np.int64)\n",
    "        \n",
    "    return user_mappings, item_mappings, dfc"
   ]
  },
  {
   "cell_type": "code",
   "execution_count": 7,
   "metadata": {},
   "outputs": [
    {
     "data": {
      "text/html": [
       "<div>\n",
       "<style scoped>\n",
       "    .dataframe tbody tr th:only-of-type {\n",
       "        vertical-align: middle;\n",
       "    }\n",
       "\n",
       "    .dataframe tbody tr th {\n",
       "        vertical-align: top;\n",
       "    }\n",
       "\n",
       "    .dataframe thead th {\n",
       "        text-align: right;\n",
       "    }\n",
       "</style>\n",
       "<table border=\"1\" class=\"dataframe\">\n",
       "  <thead>\n",
       "    <tr style=\"text-align: right;\">\n",
       "      <th></th>\n",
       "      <th>user</th>\n",
       "      <th>item</th>\n",
       "      <th>timestamp</th>\n",
       "      <th>rating</th>\n",
       "    </tr>\n",
       "  </thead>\n",
       "  <tbody>\n",
       "    <tr>\n",
       "      <td>0</td>\n",
       "      <td>0</td>\n",
       "      <td>0</td>\n",
       "      <td>1353196800</td>\n",
       "      <td>4</td>\n",
       "    </tr>\n",
       "    <tr>\n",
       "      <td>1</td>\n",
       "      <td>0</td>\n",
       "      <td>1</td>\n",
       "      <td>1353196800</td>\n",
       "      <td>4</td>\n",
       "    </tr>\n",
       "    <tr>\n",
       "      <td>2</td>\n",
       "      <td>0</td>\n",
       "      <td>2</td>\n",
       "      <td>1353196800</td>\n",
       "      <td>4</td>\n",
       "    </tr>\n",
       "    <tr>\n",
       "      <td>3</td>\n",
       "      <td>0</td>\n",
       "      <td>3</td>\n",
       "      <td>1353196800</td>\n",
       "      <td>4</td>\n",
       "    </tr>\n",
       "    <tr>\n",
       "      <td>4</td>\n",
       "      <td>0</td>\n",
       "      <td>4</td>\n",
       "      <td>1353196800</td>\n",
       "      <td>4</td>\n",
       "    </tr>\n",
       "  </tbody>\n",
       "</table>\n",
       "</div>"
      ],
      "text/plain": [
       "   user  item   timestamp  rating\n",
       "0     0     0  1353196800       4\n",
       "1     0     1  1353196800       4\n",
       "2     0     2  1353196800       4\n",
       "3     0     3  1353196800       4\n",
       "4     0     4  1353196800       4"
      ]
     },
     "execution_count": 7,
     "metadata": {},
     "output_type": "execute_result"
    }
   ],
   "source": [
    "user_mappings, item_mappings, dfm = map_user_items(df)\n",
    "dfm.head()"
   ]
  },
  {
   "cell_type": "markdown",
   "metadata": {},
   "source": [
    "###  Train/Test split\n",
    "\n",
    "This split is designed to reproduce [Xiang Wang et al. 2019](https://arxiv.org/pdf/1905.08108.pdf) paper's format. "
   ]
  },
  {
   "cell_type": "code",
   "execution_count": 8,
   "metadata": {},
   "outputs": [],
   "source": [
    "df1 = dfm[['user', 'item']]"
   ]
  },
  {
   "cell_type": "code",
   "execution_count": 9,
   "metadata": {},
   "outputs": [],
   "source": [
    "def f(df):\n",
    "    keys, values = df.sort_values('user').values.T\n",
    "    ukeys, index = np.unique(keys, True)\n",
    "    arrays = np.split(values, index[1:])\n",
    "    df2 = pd.DataFrame({'user':ukeys, 'item':[list(a) for a in arrays]})\n",
    "    return df2"
   ]
  },
  {
   "cell_type": "code",
   "execution_count": 10,
   "metadata": {},
   "outputs": [
    {
     "data": {
      "text/html": [
       "<div>\n",
       "<style scoped>\n",
       "    .dataframe tbody tr th:only-of-type {\n",
       "        vertical-align: middle;\n",
       "    }\n",
       "\n",
       "    .dataframe tbody tr th {\n",
       "        vertical-align: top;\n",
       "    }\n",
       "\n",
       "    .dataframe thead th {\n",
       "        text-align: right;\n",
       "    }\n",
       "</style>\n",
       "<table border=\"1\" class=\"dataframe\">\n",
       "  <thead>\n",
       "    <tr style=\"text-align: right;\">\n",
       "      <th></th>\n",
       "      <th>user</th>\n",
       "      <th>item</th>\n",
       "    </tr>\n",
       "  </thead>\n",
       "  <tbody>\n",
       "    <tr>\n",
       "      <td>0</td>\n",
       "      <td>0</td>\n",
       "      <td>[0, 1, 2, 3, 4, 5]</td>\n",
       "    </tr>\n",
       "    <tr>\n",
       "      <td>1</td>\n",
       "      <td>1</td>\n",
       "      <td>[6, 7, 8, 9, 10]</td>\n",
       "    </tr>\n",
       "    <tr>\n",
       "      <td>2</td>\n",
       "      <td>2</td>\n",
       "      <td>[20, 19, 18, 17, 16, 11, 14, 13, 12, 15]</td>\n",
       "    </tr>\n",
       "    <tr>\n",
       "      <td>3</td>\n",
       "      <td>3</td>\n",
       "      <td>[25, 24, 21, 22, 23]</td>\n",
       "    </tr>\n",
       "    <tr>\n",
       "      <td>4</td>\n",
       "      <td>4</td>\n",
       "      <td>[34, 32, 31, 30, 33, 28, 27, 26, 29]</td>\n",
       "    </tr>\n",
       "  </tbody>\n",
       "</table>\n",
       "</div>"
      ],
      "text/plain": [
       "   user                                      item\n",
       "0     0                        [0, 1, 2, 3, 4, 5]\n",
       "1     1                          [6, 7, 8, 9, 10]\n",
       "2     2  [20, 19, 18, 17, 16, 11, 14, 13, 12, 15]\n",
       "3     3                      [25, 24, 21, 22, 23]\n",
       "4     4      [34, 32, 31, 30, 33, 28, 27, 26, 29]"
      ]
     },
     "execution_count": 10,
     "metadata": {},
     "output_type": "execute_result"
    }
   ],
   "source": [
    "interactions_df = f(df1)\n",
    "interactions_df.head()"
   ]
  },
  {
   "cell_type": "markdown",
   "metadata": {},
   "source": [
    "The split strategy we will follow is: 80% training, 20% testing. \n",
    "\n",
    "Then, 10% of the training we'll be as validation to tune parameters. Once tuned, one would merge train+validation and re-train with the best performing params"
   ]
  },
  {
   "cell_type": "code",
   "execution_count": 11,
   "metadata": {},
   "outputs": [],
   "source": [
    "def train_test_split(u, i_l, p=0.8):\n",
    "    s = np.floor(len(i_l)*p).astype('int')\n",
    "    train = list(np.random.choice(i_l, s, replace=False))\n",
    "    test  = list(np.setdiff1d(i_l, train))\n",
    "    return ([u]+train, [u]+test)"
   ]
  },
  {
   "cell_type": "code",
   "execution_count": 12,
   "metadata": {
    "scrolled": true
   },
   "outputs": [],
   "source": [
    "interactions_l = [train_test_split(r['user'], r['item']) for i,r in interactions_df.iterrows()]"
   ]
  },
  {
   "cell_type": "code",
   "execution_count": 13,
   "metadata": {},
   "outputs": [],
   "source": [
    "train = [interactions_l[i][0] for i in range(len(interactions_l))]\n",
    "test =  [interactions_l[i][1] for i in range(len(interactions_l))]"
   ]
  },
  {
   "cell_type": "code",
   "execution_count": 14,
   "metadata": {},
   "outputs": [
    {
     "name": "stdout",
     "output_type": "stream",
     "text": [
      "[0, 0, 3, 1, 5] [0, 2, 4]\n"
     ]
    }
   ],
   "source": [
    "print(train[0], test[0])"
   ]
  },
  {
   "cell_type": "markdown",
   "metadata": {},
   "source": [
    "Now let's take 10% of the train (which was 80%) as validation"
   ]
  },
  {
   "cell_type": "code",
   "execution_count": 15,
   "metadata": {},
   "outputs": [],
   "source": [
    "tr_interactions_l = [train_test_split(t[0], t[1:], p=0.9) for t in train]"
   ]
  },
  {
   "cell_type": "code",
   "execution_count": 16,
   "metadata": {},
   "outputs": [],
   "source": [
    "train = [tr_interactions_l[i][0] for i in range(len(tr_interactions_l))]\n",
    "valid = [tr_interactions_l[i][1] for i in range(len(tr_interactions_l))]"
   ]
  },
  {
   "cell_type": "code",
   "execution_count": 17,
   "metadata": {},
   "outputs": [
    {
     "name": "stdout",
     "output_type": "stream",
     "text": [
      "[1, 10, 6, 8] [1, 9] [1, 7]\n"
     ]
    }
   ],
   "source": [
    "print(train[1], valid[1], test[1])"
   ]
  },
  {
   "cell_type": "code",
   "execution_count": 18,
   "metadata": {},
   "outputs": [
    {
     "name": "stdout",
     "output_type": "stream",
     "text": [
      "1 1\n"
     ]
    }
   ],
   "source": [
    "print(min([len(t[1:]) for t in test]), min([len(v[1:]) for v in valid]))"
   ]
  },
  {
   "cell_type": "code",
   "execution_count": 20,
   "metadata": {},
   "outputs": [],
   "source": [
    "train_fname = DATA_PATH/'train.txt'\n",
    "valid_fname = DATA_PATH/'valid.txt'\n",
    "test_fname = DATA_PATH/'test.txt'\n",
    "\n",
    "with open(train_fname, 'w') as trf, open(valid_fname, 'w') as vaf, open(test_fname, 'w') as tef:\n",
    "    trwrt = csv.writer(trf, delimiter=' ')\n",
    "    vawrt = csv.writer(vaf, delimiter=' ')\n",
    "    tewrt = csv.writer(tef, delimiter=' ')\n",
    "    trwrt.writerows(train)\n",
    "    vawrt.writerows(valid)\n",
    "    tewrt.writerows(test)"
   ]
  },
  {
   "cell_type": "markdown",
   "metadata": {},
   "source": [
    "### Train/Test split approach 2\n",
    "\n",
    "I will also be running the NGCF algorithm using the same train/test approach (or method) used for [neural collaborative filtering](https://arxiv.org/pdf/1708.05031.pdf) (you can read in the other [sub-directory](https://github.com/jrzaurin/RecoTour/tree/master/Amazon/neural_cf) in the Amazon's directory). With that in mind, let me also show how to prepare the data in that scenario. Since I already described in detail the process there, I will \"go quickly\" here. \n",
    "\n",
    "Remember, `df` is"
   ]
  },
  {
   "cell_type": "code",
   "execution_count": 19,
   "metadata": {},
   "outputs": [
    {
     "data": {
      "text/html": [
       "<div>\n",
       "<style scoped>\n",
       "    .dataframe tbody tr th:only-of-type {\n",
       "        vertical-align: middle;\n",
       "    }\n",
       "\n",
       "    .dataframe tbody tr th {\n",
       "        vertical-align: top;\n",
       "    }\n",
       "\n",
       "    .dataframe thead th {\n",
       "        text-align: right;\n",
       "    }\n",
       "</style>\n",
       "<table border=\"1\" class=\"dataframe\">\n",
       "  <thead>\n",
       "    <tr style=\"text-align: right;\">\n",
       "      <th></th>\n",
       "      <th>user</th>\n",
       "      <th>item</th>\n",
       "      <th>timestamp</th>\n",
       "      <th>rating</th>\n",
       "    </tr>\n",
       "  </thead>\n",
       "  <tbody>\n",
       "    <tr>\n",
       "      <td>0</td>\n",
       "      <td>A00295401U6S2UG3RAQSZ</td>\n",
       "      <td>0767015533</td>\n",
       "      <td>1353196800</td>\n",
       "      <td>4</td>\n",
       "    </tr>\n",
       "    <tr>\n",
       "      <td>1</td>\n",
       "      <td>A00295401U6S2UG3RAQSZ</td>\n",
       "      <td>0792838084</td>\n",
       "      <td>1353196800</td>\n",
       "      <td>4</td>\n",
       "    </tr>\n",
       "    <tr>\n",
       "      <td>2</td>\n",
       "      <td>A00295401U6S2UG3RAQSZ</td>\n",
       "      <td>6304484054</td>\n",
       "      <td>1353196800</td>\n",
       "      <td>4</td>\n",
       "    </tr>\n",
       "    <tr>\n",
       "      <td>3</td>\n",
       "      <td>A00295401U6S2UG3RAQSZ</td>\n",
       "      <td>6305182205</td>\n",
       "      <td>1353196800</td>\n",
       "      <td>4</td>\n",
       "    </tr>\n",
       "    <tr>\n",
       "      <td>4</td>\n",
       "      <td>A00295401U6S2UG3RAQSZ</td>\n",
       "      <td>B00004W22I</td>\n",
       "      <td>1353196800</td>\n",
       "      <td>4</td>\n",
       "    </tr>\n",
       "  </tbody>\n",
       "</table>\n",
       "</div>"
      ],
      "text/plain": [
       "                    user        item   timestamp  rating\n",
       "0  A00295401U6S2UG3RAQSZ  0767015533  1353196800       4\n",
       "1  A00295401U6S2UG3RAQSZ  0792838084  1353196800       4\n",
       "2  A00295401U6S2UG3RAQSZ  6304484054  1353196800       4\n",
       "3  A00295401U6S2UG3RAQSZ  6305182205  1353196800       4\n",
       "4  A00295401U6S2UG3RAQSZ  B00004W22I  1353196800       4"
      ]
     },
     "execution_count": 19,
     "metadata": {},
     "output_type": "execute_result"
    }
   ],
   "source": [
    "df.head()"
   ]
  },
  {
   "cell_type": "code",
   "execution_count": 20,
   "metadata": {},
   "outputs": [],
   "source": [
    "from copy import copy\n",
    "from time import time\n",
    "from joblib import Parallel, delayed\n",
    "dfc = copy(df)"
   ]
  },
  {
   "cell_type": "code",
   "execution_count": 21,
   "metadata": {},
   "outputs": [],
   "source": [
    "# rank (temporal order) of items bought\n",
    "dfc['rank'] = dfc.groupby(\"user\")[\"timestamp\"].rank(ascending=True, method='dense')\n",
    "dfc.drop(\"timestamp\", axis=1, inplace=True)\n",
    "\n",
    "# mapping user and item ids to integers\n",
    "user_mappings = {k:v for v,k in enumerate(dfc.user.unique())}\n",
    "item_mappings = {k:v for v,k in enumerate(dfc.item.unique())}\n",
    "dfc['user'] = dfc['user'].map(user_mappings)\n",
    "dfc['item'] = dfc['item'].map(item_mappings)\n",
    "dfc = dfc[['user','item','rank','rating']].astype(np.int64)"
   ]
  },
  {
   "cell_type": "code",
   "execution_count": 22,
   "metadata": {},
   "outputs": [
    {
     "data": {
      "text/html": [
       "<div>\n",
       "<style scoped>\n",
       "    .dataframe tbody tr th:only-of-type {\n",
       "        vertical-align: middle;\n",
       "    }\n",
       "\n",
       "    .dataframe tbody tr th {\n",
       "        vertical-align: top;\n",
       "    }\n",
       "\n",
       "    .dataframe thead th {\n",
       "        text-align: right;\n",
       "    }\n",
       "</style>\n",
       "<table border=\"1\" class=\"dataframe\">\n",
       "  <thead>\n",
       "    <tr style=\"text-align: right;\">\n",
       "      <th></th>\n",
       "      <th>user</th>\n",
       "      <th>item</th>\n",
       "      <th>rank</th>\n",
       "      <th>rating</th>\n",
       "    </tr>\n",
       "  </thead>\n",
       "  <tbody>\n",
       "    <tr>\n",
       "      <td>0</td>\n",
       "      <td>0</td>\n",
       "      <td>0</td>\n",
       "      <td>1</td>\n",
       "      <td>4</td>\n",
       "    </tr>\n",
       "    <tr>\n",
       "      <td>1</td>\n",
       "      <td>0</td>\n",
       "      <td>1</td>\n",
       "      <td>1</td>\n",
       "      <td>4</td>\n",
       "    </tr>\n",
       "    <tr>\n",
       "      <td>2</td>\n",
       "      <td>0</td>\n",
       "      <td>2</td>\n",
       "      <td>1</td>\n",
       "      <td>4</td>\n",
       "    </tr>\n",
       "    <tr>\n",
       "      <td>3</td>\n",
       "      <td>0</td>\n",
       "      <td>3</td>\n",
       "      <td>1</td>\n",
       "      <td>4</td>\n",
       "    </tr>\n",
       "    <tr>\n",
       "      <td>4</td>\n",
       "      <td>0</td>\n",
       "      <td>4</td>\n",
       "      <td>1</td>\n",
       "      <td>4</td>\n",
       "    </tr>\n",
       "  </tbody>\n",
       "</table>\n",
       "</div>"
      ],
      "text/plain": [
       "   user  item  rank  rating\n",
       "0     0     0     1       4\n",
       "1     0     1     1       4\n",
       "2     0     2     1       4\n",
       "3     0     3     1       4\n",
       "4     0     4     1       4"
      ]
     },
     "execution_count": 22,
     "metadata": {},
     "output_type": "execute_result"
    }
   ],
   "source": [
    "dfc.head()"
   ]
  },
  {
   "cell_type": "code",
   "execution_count": 23,
   "metadata": {},
   "outputs": [
    {
     "name": "stdout",
     "output_type": "stream",
     "text": [
      "(1573573, 3) (123960, 3)\n"
     ]
    }
   ],
   "source": [
    "# Cardinality\n",
    "n_users = df.user.nunique()\n",
    "n_items = df.item.nunique()\n",
    "\n",
    "dfc.sort_values(['user','rank'], ascending=[True,True], inplace=True)\n",
    "dfc.reset_index(inplace=True, drop=True)\n",
    "\n",
    "# use last ratings for testing and all the previous for training\n",
    "test = dfc.groupby('user').tail(1)\n",
    "train = pd.merge(dfc, test, on=['user','item'],\n",
    "    how='outer', suffixes=('', '_y'))\n",
    "train = train[train.rating_y.isnull()]\n",
    "test = test[['user','item','rating']]\n",
    "train = train[['user','item','rating']]\n",
    "print(train.shape, test.shape)"
   ]
  },
  {
   "cell_type": "code",
   "execution_count": 24,
   "metadata": {},
   "outputs": [
    {
     "name": "stdout",
     "output_type": "stream",
     "text": [
      "sampling not rated items...\n",
      "sampling took 1.0 min\n"
     ]
    }
   ],
   "source": [
    "# select 99 random movies per user that were never rated by that user\n",
    "all_items = dfc.item.unique()\n",
    "rated_items = (dfc.groupby(\"user\")['item']\n",
    "    .apply(list)\n",
    "    .reset_index()\n",
    "    ).item.tolist()\n",
    "\n",
    "def sample_not_rated(item_list, rseed=1, n=99):\n",
    "    np.random.seed=rseed\n",
    "    return np.random.choice(np.setdiff1d(all_items, item_list), n)\n",
    "\n",
    "print(\"sampling not rated items...\")\n",
    "start = time()\n",
    "non_rated_items = Parallel(n_jobs=4)(delayed(sample_not_rated)(ri) for ri in rated_items)\n",
    "end = time() - start\n",
    "print(\"sampling took {} min\".format(round(end/60,2)))\n",
    "\n",
    "negative = pd.DataFrame({'negative':non_rated_items})\n",
    "negative[['item_n'+str(i) for i in range(99)]] =\\\n",
    "    pd.DataFrame(negative.negative.values.tolist(), index= negative.index)\n",
    "negative.drop('negative', axis=1, inplace=True)\n",
    "negative = negative.stack().reset_index()\n",
    "negative = negative.iloc[:, [0,2]]\n",
    "negative.columns = ['user','item']\n",
    "negative['rating'] = 0\n",
    "assert negative.shape[0] == len(non_rated_items)*99\n",
    "test_negative = (pd.concat([test,negative])\n",
    "    .sort_values('user', ascending=True)\n",
    "    .reset_index(drop=True)\n",
    "    )\n",
    "# Ensuring that the 1st element every 100 is the rated item. This is\n",
    "# fundamental for testing\n",
    "test_negative.sort_values(['user', 'rating'], ascending=[True,False], inplace=True)\n",
    "assert np.all(test_negative.values[0::100][:,2] != 0)"
   ]
  },
  {
   "cell_type": "markdown",
   "metadata": {},
   "source": [
    "Let's make sure we did a good job. Let's pick up a random user and make sure the test set contains 99 items that user never rated."
   ]
  },
  {
   "cell_type": "code",
   "execution_count": 25,
   "metadata": {},
   "outputs": [],
   "source": [
    "user_id = np.random.randint(0, n_users-1)\n",
    "items_rated = test_negative[(test_negative.user==user_id) & (test_negative.rating != 0)]['item'].tolist()\n",
    "items_rated+= train[train.user==user_id]['item'].tolist()\n",
    "items_never_rated = test_negative[(test_negative.user==user_id) & (test_negative.rating == 0)]['item'].tolist()\n",
    "assert len(np.intersect1d(items_rated, items_never_rated)) == 0"
   ]
  },
  {
   "cell_type": "markdown",
   "metadata": {},
   "source": [
    "Let's define a helper function to build a sparse matrix of interactions given a dataframe"
   ]
  },
  {
   "cell_type": "code",
   "execution_count": 26,
   "metadata": {},
   "outputs": [],
   "source": [
    "def array2mtx(interactions):\n",
    "    num_users = interactions[:,0].max()\n",
    "    num_items = interactions[:,1].max()\n",
    "    mat = sp.dok_matrix((num_users+1, num_items+1), dtype=np.float32)\n",
    "    for user, item, rating in interactions:\n",
    "            mat[user, item] = rating\n",
    "    return mat.tocsr()"
   ]
  },
  {
   "cell_type": "code",
   "execution_count": 27,
   "metadata": {},
   "outputs": [
    {
     "name": "stdout",
     "output_type": "stream",
     "text": [
      "saving training set as sparse matrix...\n"
     ]
    }
   ],
   "source": [
    "print(\"saving training set as sparse matrix...\")\n",
    "train_mtx = array2mtx(train.values)"
   ]
  },
  {
   "cell_type": "markdown",
   "metadata": {},
   "source": [
    "and that's it. All the required objects are saved to disk as below and we are ready to experiment"
   ]
  },
  {
   "cell_type": "code",
   "execution_count": 46,
   "metadata": {},
   "outputs": [],
   "source": [
    "# # Save\n",
    "# np.savez(data_path/\"neuralcf_split.npz\", train=train.values, test=test.values,\n",
    "#     test_negative=test_negative.values, negatives=np.array(non_rated_items),\n",
    "#     n_users=n_users, n_items=n_items)\n",
    "\n",
    "# # Save training as sparse matrix\n",
    "# print(\"saving training set as sparse matrix...\")\n",
    "# train_mtx = array2mtx(train.values)\n",
    "# save_npz(data_path/\"neuralcf_train_sparse.npz\", train_mtx)"
   ]
  }
 ],
 "metadata": {
  "kernelspec": {
   "display_name": "Environment (conda_pytorch_ngcf)",
   "language": "python",
   "name": "conda_pytorch_ngcf"
  },
  "language_info": {
   "codemirror_mode": {
    "name": "ipython",
    "version": 3
   },
   "file_extension": ".py",
   "mimetype": "text/x-python",
   "name": "python",
   "nbconvert_exporter": "python",
   "pygments_lexer": "ipython3",
   "version": "3.6.9"
  }
 },
 "nbformat": 4,
 "nbformat_minor": 2
}
