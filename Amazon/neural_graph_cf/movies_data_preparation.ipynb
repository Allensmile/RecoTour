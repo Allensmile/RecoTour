{
 "cells": [
  {
   "cell_type": "markdown",
   "metadata": {},
   "source": [
    "To start with simply download the dataset:\n",
    "\n",
    "`wget http://snap.stanford.edu/data/amazon/productGraph/categoryFiles/reviews_Movies_and_TV_5.json.gz`"
   ]
  },
  {
   "cell_type": "code",
   "execution_count": 1,
   "metadata": {},
   "outputs": [],
   "source": [
    "import numpy as np\n",
    "import pandas as pd\n",
    "import csv\n",
    "\n",
    "from pathlib import Path\n",
    "from joblib import Parallel, delayed"
   ]
  },
  {
   "cell_type": "code",
   "execution_count": 2,
   "metadata": {},
   "outputs": [],
   "source": [
    "DATA_PATH = Path(\"/home/ubuntu/projects/neural_graph_cf/Data/amazon-movies\")\n",
    "reviews = \"reviews_Movies_and_TV_5.json.gz\""
   ]
  },
  {
   "cell_type": "code",
   "execution_count": 3,
   "metadata": {},
   "outputs": [
    {
     "data": {
      "text/html": [
       "<div>\n",
       "<style scoped>\n",
       "    .dataframe tbody tr th:only-of-type {\n",
       "        vertical-align: middle;\n",
       "    }\n",
       "\n",
       "    .dataframe tbody tr th {\n",
       "        vertical-align: top;\n",
       "    }\n",
       "\n",
       "    .dataframe thead th {\n",
       "        text-align: right;\n",
       "    }\n",
       "</style>\n",
       "<table border=\"1\" class=\"dataframe\">\n",
       "  <thead>\n",
       "    <tr style=\"text-align: right;\">\n",
       "      <th></th>\n",
       "      <th>user</th>\n",
       "      <th>item</th>\n",
       "      <th>timestamp</th>\n",
       "      <th>rating</th>\n",
       "    </tr>\n",
       "  </thead>\n",
       "  <tbody>\n",
       "    <tr>\n",
       "      <th>0</th>\n",
       "      <td>ADZPIG9QOCDG5</td>\n",
       "      <td>0005019281</td>\n",
       "      <td>1203984000</td>\n",
       "      <td>4</td>\n",
       "    </tr>\n",
       "    <tr>\n",
       "      <th>1</th>\n",
       "      <td>A35947ZP82G7JH</td>\n",
       "      <td>0005019281</td>\n",
       "      <td>1388361600</td>\n",
       "      <td>3</td>\n",
       "    </tr>\n",
       "    <tr>\n",
       "      <th>2</th>\n",
       "      <td>A3UORV8A9D5L2E</td>\n",
       "      <td>0005019281</td>\n",
       "      <td>1388361600</td>\n",
       "      <td>3</td>\n",
       "    </tr>\n",
       "    <tr>\n",
       "      <th>3</th>\n",
       "      <td>A1VKW06X1O2X7V</td>\n",
       "      <td>0005019281</td>\n",
       "      <td>1202860800</td>\n",
       "      <td>5</td>\n",
       "    </tr>\n",
       "    <tr>\n",
       "      <th>4</th>\n",
       "      <td>A3R27T4HADWFFJ</td>\n",
       "      <td>0005019281</td>\n",
       "      <td>1387670400</td>\n",
       "      <td>4</td>\n",
       "    </tr>\n",
       "  </tbody>\n",
       "</table>\n",
       "</div>"
      ],
      "text/plain": [
       "             user        item   timestamp  rating\n",
       "0   ADZPIG9QOCDG5  0005019281  1203984000       4\n",
       "1  A35947ZP82G7JH  0005019281  1388361600       3\n",
       "2  A3UORV8A9D5L2E  0005019281  1388361600       3\n",
       "3  A1VKW06X1O2X7V  0005019281  1202860800       5\n",
       "4  A3R27T4HADWFFJ  0005019281  1387670400       4"
      ]
     },
     "execution_count": 3,
     "metadata": {},
     "output_type": "execute_result"
    }
   ],
   "source": [
    "df = pd.read_json(DATA_PATH/reviews, lines=True)\n",
    "keep_cols = ['reviewerID', 'asin', 'unixReviewTime', 'overall']\n",
    "new_colnames = ['user', 'item', 'timestamp', 'rating']\n",
    "df = df[keep_cols]\n",
    "df.columns = new_colnames\n",
    "df.head()"
   ]
  },
  {
   "cell_type": "code",
   "execution_count": 4,
   "metadata": {},
   "outputs": [
    {
     "data": {
      "text/plain": [
       "5    906608\n",
       "4    382994\n",
       "3    201302\n",
       "1    104219\n",
       "2    102410\n",
       "Name: rating, dtype: int64"
      ]
     },
     "execution_count": 4,
     "metadata": {},
     "output_type": "execute_result"
    }
   ],
   "source": [
    "df.rating.value_counts()"
   ]
  },
  {
   "cell_type": "markdown",
   "metadata": {},
   "source": [
    "a lot of people seem to love the movies they watch. There are more 5s that 1,2,3 and 4s together."
   ]
  },
  {
   "cell_type": "code",
   "execution_count": 5,
   "metadata": {},
   "outputs": [
    {
     "name": "stdout",
     "output_type": "stream",
     "text": [
      "          orig_id  remap_id\n",
      "0   ADZPIG9QOCDG5         0\n",
      "1  A35947ZP82G7JH         1\n",
      "2  A3UORV8A9D5L2E         2\n",
      "3  A1VKW06X1O2X7V         3\n",
      "4  A3R27T4HADWFFJ         4\n",
      "      orig_id  remap_id\n",
      "0  0005019281         0\n",
      "1  0005119367         1\n",
      "2  0307141985         2\n",
      "3  0307142469         3\n",
      "4  0307142477         4\n"
     ]
    }
   ],
   "source": [
    "# mapping user and item ids to (continuos) integers\n",
    "user_mappings = {k:v for v,k in enumerate(df.user.unique())}\n",
    "item_mappings = {k:v for v,k in enumerate(df.item.unique())}\n",
    "\n",
    "user_list = pd.DataFrame.from_dict(user_mappings, orient='index').reset_index()\n",
    "user_list.columns = ['orig_id', 'remap_id']\n",
    "item_list = pd.DataFrame.from_dict(item_mappings, orient='index').reset_index()\n",
    "item_list.columns = ['orig_id', 'remap_id']\n",
    "print(user_list.head())\n",
    "print(item_list.head())"
   ]
  },
  {
   "cell_type": "code",
   "execution_count": 8,
   "metadata": {},
   "outputs": [],
   "source": [
    "user_list.to_csv(DATA_PATH/'user_list.txt', sep=\" \", index=False)\n",
    "item_list.to_csv(DATA_PATH/'item_list.txt', sep=\" \", index=False)"
   ]
  },
  {
   "cell_type": "code",
   "execution_count": 9,
   "metadata": {},
   "outputs": [
    {
     "data": {
      "text/html": [
       "<div>\n",
       "<style scoped>\n",
       "    .dataframe tbody tr th:only-of-type {\n",
       "        vertical-align: middle;\n",
       "    }\n",
       "\n",
       "    .dataframe tbody tr th {\n",
       "        vertical-align: top;\n",
       "    }\n",
       "\n",
       "    .dataframe thead th {\n",
       "        text-align: right;\n",
       "    }\n",
       "</style>\n",
       "<table border=\"1\" class=\"dataframe\">\n",
       "  <thead>\n",
       "    <tr style=\"text-align: right;\">\n",
       "      <th></th>\n",
       "      <th>user</th>\n",
       "      <th>item</th>\n",
       "    </tr>\n",
       "  </thead>\n",
       "  <tbody>\n",
       "    <tr>\n",
       "      <th>0</th>\n",
       "      <td>0</td>\n",
       "      <td>0</td>\n",
       "    </tr>\n",
       "    <tr>\n",
       "      <th>1</th>\n",
       "      <td>1</td>\n",
       "      <td>0</td>\n",
       "    </tr>\n",
       "    <tr>\n",
       "      <th>2</th>\n",
       "      <td>2</td>\n",
       "      <td>0</td>\n",
       "    </tr>\n",
       "    <tr>\n",
       "      <th>3</th>\n",
       "      <td>3</td>\n",
       "      <td>0</td>\n",
       "    </tr>\n",
       "    <tr>\n",
       "      <th>4</th>\n",
       "      <td>4</td>\n",
       "      <td>0</td>\n",
       "    </tr>\n",
       "  </tbody>\n",
       "</table>\n",
       "</div>"
      ],
      "text/plain": [
       "   user  item\n",
       "0     0     0\n",
       "1     1     0\n",
       "2     2     0\n",
       "3     3     0\n",
       "4     4     0"
      ]
     },
     "execution_count": 9,
     "metadata": {},
     "output_type": "execute_result"
    }
   ],
   "source": [
    "df['user'] = df['user'].map(user_mappings)\n",
    "df['item'] = df['item'].map(item_mappings)\n",
    "df = df[['user','item']].astype(np.int64)\n",
    "df.head()"
   ]
  },
  {
   "cell_type": "code",
   "execution_count": 10,
   "metadata": {},
   "outputs": [],
   "source": [
    "def f(df):\n",
    "    keys, values = df.sort_values('user').values.T\n",
    "    ukeys, index = np.unique(keys, True)\n",
    "    arrays = np.split(values, index[1:])\n",
    "    df2 = pd.DataFrame({'user':ukeys, 'item':[list(a) for a in arrays]})\n",
    "    return df2"
   ]
  },
  {
   "cell_type": "code",
   "execution_count": 11,
   "metadata": {},
   "outputs": [
    {
     "data": {
      "text/html": [
       "<div>\n",
       "<style scoped>\n",
       "    .dataframe tbody tr th:only-of-type {\n",
       "        vertical-align: middle;\n",
       "    }\n",
       "\n",
       "    .dataframe tbody tr th {\n",
       "        vertical-align: top;\n",
       "    }\n",
       "\n",
       "    .dataframe thead th {\n",
       "        text-align: right;\n",
       "    }\n",
       "</style>\n",
       "<table border=\"1\" class=\"dataframe\">\n",
       "  <thead>\n",
       "    <tr style=\"text-align: right;\">\n",
       "      <th></th>\n",
       "      <th>user</th>\n",
       "      <th>item</th>\n",
       "    </tr>\n",
       "  </thead>\n",
       "  <tbody>\n",
       "    <tr>\n",
       "      <th>0</th>\n",
       "      <td>0</td>\n",
       "      <td>[0, 5773, 3362, 35303, 522, 537]</td>\n",
       "    </tr>\n",
       "    <tr>\n",
       "      <th>1</th>\n",
       "      <td>1</td>\n",
       "      <td>[20414, 0, 26966, 14571, 3240]</td>\n",
       "    </tr>\n",
       "    <tr>\n",
       "      <th>2</th>\n",
       "      <td>2</td>\n",
       "      <td>[0, 47252, 34434, 41076, 21569]</td>\n",
       "    </tr>\n",
       "    <tr>\n",
       "      <th>3</th>\n",
       "      <td>3</td>\n",
       "      <td>[15583, 46938, 39098, 0, 2132]</td>\n",
       "    </tr>\n",
       "    <tr>\n",
       "      <th>4</th>\n",
       "      <td>4</td>\n",
       "      <td>[11141, 4998, 28627, 10497, 43878, 9926, 46637...</td>\n",
       "    </tr>\n",
       "  </tbody>\n",
       "</table>\n",
       "</div>"
      ],
      "text/plain": [
       "   user                                               item\n",
       "0     0                   [0, 5773, 3362, 35303, 522, 537]\n",
       "1     1                     [20414, 0, 26966, 14571, 3240]\n",
       "2     2                    [0, 47252, 34434, 41076, 21569]\n",
       "3     3                     [15583, 46938, 39098, 0, 2132]\n",
       "4     4  [11141, 4998, 28627, 10497, 43878, 9926, 46637..."
      ]
     },
     "execution_count": 11,
     "metadata": {},
     "output_type": "execute_result"
    }
   ],
   "source": [
    "interactions_df = f(df)\n",
    "interactions_df.head()"
   ]
  },
  {
   "cell_type": "code",
   "execution_count": 12,
   "metadata": {},
   "outputs": [],
   "source": [
    "def train_test_split(u, i_l, p=0.8):\n",
    "    s = np.floor(len(i_l)*p).astype('int')\n",
    "    train = [u] + list(np.random.choice(i_l, s, replace=False))\n",
    "    test  = [u] + list(np.setdiff1d(i_l, train))\n",
    "    return (train, test)"
   ]
  },
  {
   "cell_type": "code",
   "execution_count": 13,
   "metadata": {
    "scrolled": true
   },
   "outputs": [],
   "source": [
    "interactions_l = [train_test_split(r['user'], r['item']) for i,r in interactions_df.iterrows()]"
   ]
  },
  {
   "cell_type": "code",
   "execution_count": 14,
   "metadata": {},
   "outputs": [
    {
     "data": {
      "text/plain": [
       "([0, 5773, 0, 537, 35303], [0, 522, 3362])"
      ]
     },
     "execution_count": 14,
     "metadata": {},
     "output_type": "execute_result"
    }
   ],
   "source": [
    "interactions_l[0]"
   ]
  },
  {
   "cell_type": "code",
   "execution_count": 15,
   "metadata": {},
   "outputs": [],
   "source": [
    "train_fname = DATA_PATH/'train.txt'\n",
    "test_fname = DATA_PATH/'test.txt'\n",
    "\n",
    "with open(train_fname, 'w') as trf, open(test_fname, 'w') as tef:\n",
    "    trwrt = csv.writer(trf, delimiter=' ')\n",
    "    tewrt = csv.writer(tef, delimiter=' ')\n",
    "    trwrt.writerows([interactions_l[i][0] for i in range(len(interactions_l))])\n",
    "    tewrt.writerows([interactions_l[i][1] for i in range(len(interactions_l))])"
   ]
  }
 ],
 "metadata": {
  "kernelspec": {
   "display_name": "Environment (conda_ngcf)",
   "language": "python",
   "name": "conda_ngcf"
  },
  "language_info": {
   "codemirror_mode": {
    "name": "ipython",
    "version": 3
   },
   "file_extension": ".py",
   "mimetype": "text/x-python",
   "name": "python",
   "nbconvert_exporter": "python",
   "pygments_lexer": "ipython3",
   "version": "3.6.5"
  }
 },
 "nbformat": 4,
 "nbformat_minor": 2
}
